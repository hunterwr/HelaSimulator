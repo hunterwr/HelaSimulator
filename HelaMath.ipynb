{
 "cells": [
  {
   "cell_type": "code",
   "execution_count": 8,
   "metadata": {},
   "outputs": [],
   "source": [
    "import random"
   ]
  },
  {
   "cell_type": "code",
   "execution_count": null,
   "metadata": {},
   "outputs": [],
   "source": [
    "deck = ['Invisible Woman', 'Modok', 'Hela', 'America Chavez', 'Magik', 'Crystal', 'Tribunal', 'Iron Man', 'Onslaught', 'Jubilee', 'Iron Lad', 'Filler']"
   ]
  },
  {
   "cell_type": "code",
   "execution_count": 39,
   "metadata": {},
   "outputs": [],
   "source": [
    "import random\n",
    "\n",
    "class CardGame:\n",
    "    def __init__(self, deck):\n",
    "        self.deck = deck\n",
    "        self.hand = []\n",
    "        self.discarded = []\n",
    "        self.played = []\n",
    "        self.invis_lane = []\n",
    "        self.onslaught_lane = []\n",
    "        self.garbage_lane = []\n",
    "        self.turn_count = 0\n",
    "        self.max_turns = 6\n",
    "        self.combo_executed = False\n",
    "        self.combo_possible = True\n",
    "\n",
    "    def shuffle_deck(self):\n",
    "        random.shuffle(self.deck)\n",
    "\n",
    "    def draw_cards(self, cards_to_draw):\n",
    "        if len(self.deck) < cards_to_draw:\n",
    "            return\n",
    "        cards_drawn = self.deck[:cards_to_draw]\n",
    "        self.hand.extend(cards_drawn)\n",
    "        self.deck = self.deck[cards_to_draw:]\n",
    "\n",
    "    def start_game(self):\n",
    "        self.shuffle_deck()\n",
    "        self.draw_cards(3)\n",
    "\n",
    "    def advance_turn(self):\n",
    "        if self.turn_count < self.max_turns:\n",
    "            self.draw_cards(1)\n",
    "            self.turn_count += 1\n",
    "        \n",
    "\n",
    "    def game_state(self):\n",
    "        print(f'Hand: {self.hand}')\n",
    "        print(f'Deck: {self.deck}')\n",
    "        if len(self.discarded) > 0:\n",
    "            print(f'Discarded: {self.discarded}')\n",
    "        if len(self.played) > 0:\n",
    "            print(f'Deck: {self.played}')\n",
    "        if len(self.invis_lane) > 0:\n",
    "            print(f'Deck: {self.invis_lane}')\n",
    "        if len(self.onslaught_lane) > 0:\n",
    "            print(f'Deck: {self.onslaught_lane}')\n",
    "        if len(self.garbage_lane) > 0:\n",
    "            print(f'Deck: {self.garbage_lane}')\n",
    "        print(f'turn: {self.turn_count}')\n",
    "\n",
    "\n",
    "class Card:\n",
    "    def __init__(self, cost, power, ability):\n",
    "        self.name = ''\n",
    "        self.played = False  # A boolean attribute to track if the card has been played\n",
    "        self.cost = cost     # The cost of playing the card\n",
    "        self.power = power   # The power or strength of the card\n",
    "        self.ability = ability  # A description of the card's special ability\n",
    "\n",
    "    def play(self):\n",
    "        if not self.played:\n",
    "            self.played = True\n",
    "        else:\n",
    "            print('Card has already been played.')\n",
    "\n"
   ]
  },
  {
   "cell_type": "code",
   "execution_count": 40,
   "metadata": {},
   "outputs": [],
   "source": [
    "# Example usage:\n",
    "deck = ['Invisible Woman', 'Modok', 'Hela', 'America Chavez', 'Magik', 'Crystal', 'Tribunal', 'Iron Man', 'Onslaught', 'Jubilee', 'Iron Lad', 'Filler']\n",
    "game = CardGame(deck)\n",
    "game.start_game()\n",
    "\n"
   ]
  },
  {
   "cell_type": "code",
   "execution_count": 50,
   "metadata": {},
   "outputs": [
    {
     "name": "stdout",
     "output_type": "stream",
     "text": [
      "Hand: ['Invisible Woman', 'Modok', 'Magik', 'Onslaught', 'America Chavez', 'Filler', 'Iron Lad', 'Tribunal', 'Crystal']\n",
      "Deck: ['Hela', 'Jubilee', 'Iron Man']\n",
      "turn: 6\n"
     ]
    }
   ],
   "source": [
    "game.advance_turn()\n",
    "game.game_state()"
   ]
  },
  {
   "cell_type": "code",
   "execution_count": null,
   "metadata": {},
   "outputs": [],
   "source": [
    "# Hela Combo with magik\n",
    "chance_of_drawing_magik_by_5 = 8/12\n",
    "chance_of_invis_woman = 7/11 # with magik you can play invis woman on 5\n",
    "chance_of_modok = 8/12 # You get to see 10 cards but 2 must be Hela and IW\n",
    "chance_of_hela = 8/12 # you get to see 10 cards but 2 must be Modok and IW\n",
    "\n",
    "combo_when_drawn\n",
    "\n",
    "print(chance_)"
   ]
  }
 ],
 "metadata": {
  "kernelspec": {
   "display_name": "Python 3",
   "language": "python",
   "name": "python3"
  },
  "language_info": {
   "codemirror_mode": {
    "name": "ipython",
    "version": 3
   },
   "file_extension": ".py",
   "mimetype": "text/x-python",
   "name": "python",
   "nbconvert_exporter": "python",
   "pygments_lexer": "ipython3",
   "version": "3.10.11"
  },
  "orig_nbformat": 4
 },
 "nbformat": 4,
 "nbformat_minor": 2
}
